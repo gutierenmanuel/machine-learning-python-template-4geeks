{
 "cells": [
  {
   "cell_type": "markdown",
   "metadata": {},
   "source": [
    "## EDA"
   ]
  },
  {
   "cell_type": "markdown",
   "metadata": {},
   "source": [
    "### Analisis Multivariable"
   ]
  },
  {
   "cell_type": "code",
   "execution_count": null,
   "metadata": {},
   "outputs": [],
   "source": [
    "#Importamos y guardamos el dataframe\n",
    "\n",
    "import pandas as pd\n",
    "\n",
    "#RUTA_DATAFRAME = ''\n",
    "RUTA_DATAFRAME = '/home/tr4shhh/Desktop/Proyects/Github/templates/ml-python-template/data/raw/bank-marketing-campaign-data.csv'\n",
    "\n",
    "df = pd.read_csv(RUTA_DATAFRAME, sep=';')"
   ]
  },
  {
   "cell_type": "code",
   "execution_count": null,
   "metadata": {},
   "outputs": [],
   "source": [
    "df"
   ]
  },
  {
   "cell_type": "markdown",
   "metadata": {},
   "source": [
    "#### Categórica - Categórica"
   ]
  },
  {
   "cell_type": "code",
   "execution_count": null,
   "metadata": {},
   "outputs": [],
   "source": [
    "#Nos quedamos solo con las variables categoricas \n",
    "categoricas = df.select_dtypes(include='object')"
   ]
  },
  {
   "cell_type": "code",
   "execution_count": null,
   "metadata": {},
   "outputs": [],
   "source": [
    "categoricas"
   ]
  },
  {
   "cell_type": "code",
   "execution_count": null,
   "metadata": {},
   "outputs": [],
   "source": [
    "import seaborn as sns\n",
    "import matplotlib.pyplot as plt\n",
    "\n",
    "#Columnas a comparar\n",
    "x_1 = ''\n",
    "hue_1 = ''\n",
    "\n",
    "dodge_plot = True\n",
    "\n",
    "#Tamaño del grafico\n",
    "plt.figure(figsize=(10, 4))\n",
    "\n",
    "# Crear un gráfico de barras apiladas\n",
    "sns.countplot(x=x_1, hue=hue_1, data=categoricas, dodge=dodge_plot)\n",
    "\n",
    "# Girar las letras 45 grados\n",
    "plt.xticks(rotation=45)\n",
    "\n",
    "# Añadir etiquetas a los ejes y un título\n",
    "plt.xlabel(x_1)\n",
    "plt.ylabel('Count')\n",
    "plt.title('Relación entre dos variables categóricas')\n",
    "\n",
    "# Mostrar el gráfico\n",
    "plt.show()"
   ]
  },
  {
   "cell_type": "markdown",
   "metadata": {},
   "source": [
    "#### Categórica - Numérica"
   ]
  },
  {
   "cell_type": "code",
   "execution_count": null,
   "metadata": {},
   "outputs": [],
   "source": [
    "import seaborn as sns\n",
    "import matplotlib.pyplot as plt\n",
    "\n",
    "#Columnas a comparar\n",
    "x_cat = 'job'\n",
    "y_num = 'y'\n",
    "\n",
    "hue_cat = ''\n",
    "\n",
    "\n",
    "#Tamaño del grafico\n",
    "plt.figure(figsize=(10, 4))\n",
    "\n",
    "#Crea un grafico de barras por valor\n",
    "\n",
    "if hue_cat != '':\n",
    "    sns.barplot(data = df, x = x_cat, y = y_num, hue = hue_cat, errorbar=('ci', 95))\n",
    "else:\n",
    "    sns.barplot(data = df, x = x_cat, y = y_num, errorbar=('ci', 95))\n",
    "\n",
    "\n",
    "# Girar las letras 45 grados\n",
    "plt.xticks(rotation=45)\n",
    "\n",
    "# Invertir el eje y\n",
    "plt.gca().invert_yaxis()\n",
    "\n",
    "# Añadir etiquetas a los ejes y un título\n",
    "plt.xlabel(x_1)\n",
    "plt.ylabel('Count')\n",
    "plt.title('Relación entre dos variables categóricas')\n",
    "\n",
    "# Mostrar el gráfico\n",
    "plt.show()"
   ]
  }
 ],
 "metadata": {
  "kernelspec": {
   "display_name": "venv",
   "language": "python",
   "name": "python3"
  },
  "language_info": {
   "codemirror_mode": {
    "name": "ipython",
    "version": 3
   },
   "file_extension": ".py",
   "mimetype": "text/x-python",
   "name": "python",
   "nbconvert_exporter": "python",
   "pygments_lexer": "ipython3",
   "version": "3.11.4"
  }
 },
 "nbformat": 4,
 "nbformat_minor": 2
}
